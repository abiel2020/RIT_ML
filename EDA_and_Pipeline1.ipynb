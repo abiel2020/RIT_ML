{
  "cells": [
    {
      "cell_type": "code",
      "execution_count": 1,
      "id": "69d678e4",
      "metadata": {
        "colab": {
          "base_uri": "https://localhost:8080/"
        },
        "id": "69d678e4",
        "outputId": "a94a7100-252b-43de-9c92-8416b729de81"
      },
      "outputs": [
        {
          "output_type": "stream",
          "name": "stdout",
          "text": [
            "Populating the interactive namespace from numpy and matplotlib\n"
          ]
        }
      ],
      "source": [
        "import numpy as np\n",
        "import pandas as pd\n",
        "import matplotlib.pyplot as plt\n",
        "\n",
        "import seaborn as sns\n",
        "%pylab inline"
      ]
    },
    {
      "cell_type": "markdown",
      "id": "c2d90e59",
      "metadata": {
        "id": "c2d90e59"
      },
      "source": [
        "# Exploratory Data Analysis (EDA)"
      ]
    },
    {
      "cell_type": "code",
      "execution_count": 4,
      "id": "393528ac",
      "metadata": {
        "id": "393528ac"
      },
      "outputs": [],
      "source": [
        "Data = pd.read_csv(\"https://raw.githubusercontent.com/iad34/seminars/master/materials/data_sem1.csv\", sep=\";\")"
      ]
    },
    {
      "cell_type": "code",
      "execution_count": 5,
      "id": "4ff45d3a",
      "metadata": {
        "id": "4ff45d3a"
      },
      "outputs": [],
      "source": [
        "Data.head()"
      ]
    },
    {
      "cell_type": "markdown",
      "id": "xQz-6FVnZDrJ",
      "metadata": {
        "id": "xQz-6FVnZDrJ"
      },
      "source": [
        "**1.** Look at the shape of data"
      ]
    },
    {
      "cell_type": "code",
      "execution_count": 6,
      "id": "1_rL6w1bYxs5",
      "metadata": {
        "id": "1_rL6w1bYxs5"
      },
      "outputs": [],
      "source": [
        "Data.shape"
      ]
    },
    {
      "cell_type": "markdown",
      "id": "E4_rCGcMZPzj",
      "metadata": {
        "id": "E4_rCGcMZPzj"
      },
      "source": [
        "**2.** Information about numerical features"
      ]
    },
    {
      "cell_type": "code",
      "execution_count": 7,
      "id": "nRa9X2_ZYwO5",
      "metadata": {
        "id": "nRa9X2_ZYwO5"
      },
      "outputs": [],
      "source": [
        "Data.describe()"
      ]
    },
    {
      "cell_type": "markdown",
      "id": "rxC2a1aUZfI8",
      "metadata": {
        "id": "rxC2a1aUZfI8"
      },
      "source": [
        "**3.** Information about all features"
      ]
    },
    {
      "cell_type": "code",
      "execution_count": 8,
      "id": "rT3VLYsNY1pI",
      "metadata": {
        "id": "rT3VLYsNY1pI"
      },
      "outputs": [],
      "source": [
        "Data.info()"
      ]
    },
    {
      "cell_type": "markdown",
      "id": "O9BZoUIdaA4d",
      "metadata": {
        "id": "O9BZoUIdaA4d"
      },
      "source": [
        "**4.** Get information about columns"
      ]
    },
    {
      "cell_type": "markdown",
      "id": "ba7f6dd3",
      "metadata": {
        "id": "ba7f6dd3"
      },
      "source": [
        "Survived"
      ]
    },
    {
      "cell_type": "code",
      "execution_count": 9,
      "id": "b_us-18fa2Qm",
      "metadata": {
        "id": "b_us-18fa2Qm"
      },
      "outputs": [],
      "source": []
    },
    {
      "cell_type": "markdown",
      "source": [
        "Pclass"
      ],
      "metadata": {
        "id": "Ym55AHzBqayJ"
      },
      "id": "Ym55AHzBqayJ"
    },
    {
      "cell_type": "code",
      "execution_count": 9,
      "id": "h1cxkd9jbEWu",
      "metadata": {
        "id": "h1cxkd9jbEWu"
      },
      "outputs": [],
      "source": []
    },
    {
      "cell_type": "markdown",
      "source": [
        "Sex"
      ],
      "metadata": {
        "id": "-8rZG9Ugq58a"
      },
      "id": "-8rZG9Ugq58a"
    },
    {
      "cell_type": "code",
      "execution_count": 10,
      "id": "znFrIMZobM8y",
      "metadata": {
        "id": "znFrIMZobM8y"
      },
      "outputs": [],
      "source": []
    },
    {
      "cell_type": "markdown",
      "id": "HkAOeSxzcRO6",
      "metadata": {
        "id": "HkAOeSxzcRO6"
      },
      "source": [
        "How to handle 'Sex'?"
      ]
    },
    {
      "cell_type": "markdown",
      "id": "i4KlWVTZ7VwR",
      "metadata": {
        "id": "i4KlWVTZ7VwR"
      },
      "source": [
        "**5.** Is the sex an important feature?"
      ]
    },
    {
      "cell_type": "code",
      "execution_count": 13,
      "id": "4gWvJ0y87teh",
      "metadata": {
        "id": "4gWvJ0y87teh"
      },
      "outputs": [],
      "source": []
    },
    {
      "cell_type": "code",
      "execution_count": 13,
      "id": "6H2pwQG19gRo",
      "metadata": {
        "id": "6H2pwQG19gRo"
      },
      "outputs": [],
      "source": [
        "#sns.set_theme(style=\"whitegrid\")\n",
        "#sns.barplot(x=\"Sex\", y=\"Survived\", hue='Pclass', data=Data)\n",
        "#sns.barplot(x=\"Sex\", y=\"Survived\",  data=Data)"
      ]
    },
    {
      "cell_type": "code",
      "execution_count": 13,
      "id": "vpD16U67c4db",
      "metadata": {
        "id": "vpD16U67c4db"
      },
      "outputs": [],
      "source": []
    },
    {
      "cell_type": "markdown",
      "id": "RlsUfWpd4wlv",
      "metadata": {
        "id": "RlsUfWpd4wlv"
      },
      "source": [
        "You can fill-in manually"
      ]
    },
    {
      "cell_type": "code",
      "execution_count": 13,
      "id": "Acd2MYjidT6I",
      "metadata": {
        "id": "Acd2MYjidT6I"
      },
      "outputs": [],
      "source": []
    },
    {
      "cell_type": "code",
      "source": [],
      "metadata": {
        "id": "8w6tBUcFsoYe"
      },
      "id": "8w6tBUcFsoYe",
      "execution_count": 13,
      "outputs": []
    },
    {
      "cell_type": "markdown",
      "id": "ZAZPpjrse7eW",
      "metadata": {
        "id": "ZAZPpjrse7eW"
      },
      "source": [
        "**6.** Delete records with unknown sex"
      ]
    },
    {
      "cell_type": "code",
      "execution_count": 13,
      "id": "0YYDOWkAfVAK",
      "metadata": {
        "id": "0YYDOWkAfVAK"
      },
      "outputs": [],
      "source": []
    },
    {
      "cell_type": "code",
      "execution_count": 13,
      "id": "NY9AkUiDgKhN",
      "metadata": {
        "id": "NY9AkUiDgKhN"
      },
      "outputs": [],
      "source": []
    },
    {
      "cell_type": "markdown",
      "id": "Fh675WEcgVyZ",
      "metadata": {
        "id": "Fh675WEcgVyZ"
      },
      "source": [
        "**7.** Encode column Sex"
      ]
    },
    {
      "cell_type": "code",
      "execution_count": 14,
      "id": "4Ad96RySgcYl",
      "metadata": {
        "id": "4Ad96RySgcYl"
      },
      "outputs": [],
      "source": [
        "#Data['Sex'] = Data['Sex'].apply(lambda x: 1 if x == 'male' else 0)\n",
        "#Data['Sex'] = Data['Sex'].map({'male': 1, 'female': 0})\n",
        "#Data.replace({'Sex': {'male': 1, 'female': 0}}, inplace = True)\n",
        "#Data.head()"
      ]
    },
    {
      "cell_type": "code",
      "execution_count": 14,
      "id": "MI7udrXH8BeP",
      "metadata": {
        "id": "MI7udrXH8BeP"
      },
      "outputs": [],
      "source": []
    },
    {
      "cell_type": "markdown",
      "id": "0faaf504",
      "metadata": {
        "id": "0faaf504"
      },
      "source": [
        "## Use OneHotEncoder"
      ]
    },
    {
      "cell_type": "code",
      "execution_count": 15,
      "id": "xer_pP3H5wf2",
      "metadata": {
        "id": "xer_pP3H5wf2"
      },
      "outputs": [],
      "source": [
        "from sklearn.preprocessing import OneHotEncoder"
      ]
    },
    {
      "cell_type": "code",
      "source": [],
      "metadata": {
        "id": "GR-QwS9Qug4q"
      },
      "id": "GR-QwS9Qug4q",
      "execution_count": 14,
      "outputs": []
    },
    {
      "cell_type": "code",
      "source": [],
      "metadata": {
        "id": "Y7BFq6VSvEKb"
      },
      "id": "Y7BFq6VSvEKb",
      "execution_count": 14,
      "outputs": []
    },
    {
      "cell_type": "code",
      "source": [],
      "metadata": {
        "id": "ElPC0AwtvPO3"
      },
      "id": "ElPC0AwtvPO3",
      "execution_count": 14,
      "outputs": []
    },
    {
      "cell_type": "markdown",
      "id": "4wY8gwac587Y",
      "metadata": {
        "id": "4wY8gwac587Y"
      },
      "source": [
        "**8.** Explore next column 'Age'"
      ]
    },
    {
      "cell_type": "code",
      "execution_count": 15,
      "id": "64345de6",
      "metadata": {
        "id": "64345de6"
      },
      "outputs": [],
      "source": []
    },
    {
      "cell_type": "code",
      "execution_count": 15,
      "id": "TfRXonmybPDf",
      "metadata": {
        "id": "TfRXonmybPDf"
      },
      "outputs": [],
      "source": []
    },
    {
      "cell_type": "code",
      "execution_count": 15,
      "id": "5F7b5IORcXrz",
      "metadata": {
        "id": "5F7b5IORcXrz"
      },
      "outputs": [],
      "source": []
    },
    {
      "cell_type": "code",
      "execution_count": 15,
      "id": "Wq5cveGsL37Z",
      "metadata": {
        "id": "Wq5cveGsL37Z"
      },
      "outputs": [],
      "source": []
    },
    {
      "cell_type": "code",
      "execution_count": 15,
      "id": "595abde3",
      "metadata": {
        "id": "595abde3"
      },
      "outputs": [],
      "source": []
    },
    {
      "cell_type": "code",
      "execution_count": 15,
      "id": "fCKeRNIIeEvK",
      "metadata": {
        "id": "fCKeRNIIeEvK"
      },
      "outputs": [],
      "source": []
    },
    {
      "cell_type": "code",
      "source": [],
      "metadata": {
        "id": "V7hcbJ0o1P7h"
      },
      "id": "V7hcbJ0o1P7h",
      "execution_count": 15,
      "outputs": []
    },
    {
      "cell_type": "code",
      "source": [],
      "metadata": {
        "id": "eRBCY9V21hvM"
      },
      "id": "eRBCY9V21hvM",
      "execution_count": 15,
      "outputs": []
    },
    {
      "cell_type": "code",
      "source": [],
      "metadata": {
        "id": "tI-ym8qY1nEu"
      },
      "id": "tI-ym8qY1nEu",
      "execution_count": 15,
      "outputs": []
    },
    {
      "cell_type": "markdown",
      "id": "TcPYrS9mEKwb",
      "metadata": {
        "id": "TcPYrS9mEKwb"
      },
      "source": [
        "**9.** Feature Embarked"
      ]
    },
    {
      "cell_type": "code",
      "execution_count": 15,
      "id": "MJeOGfjlDfup",
      "metadata": {
        "id": "MJeOGfjlDfup"
      },
      "outputs": [],
      "source": []
    },
    {
      "cell_type": "code",
      "execution_count": 15,
      "id": "kou1ImUrDfzY",
      "metadata": {
        "id": "kou1ImUrDfzY"
      },
      "outputs": [],
      "source": []
    },
    {
      "cell_type": "markdown",
      "id": "c6kSoetTFNJ_",
      "metadata": {
        "id": "c6kSoetTFNJ_"
      },
      "source": [
        "**10.** Check the data again"
      ]
    },
    {
      "cell_type": "code",
      "execution_count": 15,
      "id": "-UutiQMmGCH7",
      "metadata": {
        "id": "-UutiQMmGCH7"
      },
      "outputs": [],
      "source": []
    },
    {
      "cell_type": "markdown",
      "source": [
        "## One Factor Analysis"
      ],
      "metadata": {
        "id": "M6GqM0e93Iq7"
      },
      "id": "M6GqM0e93Iq7"
    },
    {
      "cell_type": "markdown",
      "id": "0d0a6b9e",
      "metadata": {
        "id": "0d0a6b9e"
      },
      "source": [
        "**11.** 'SibSp'"
      ]
    },
    {
      "cell_type": "code",
      "execution_count": 15,
      "id": "fd441e16",
      "metadata": {
        "id": "fd441e16"
      },
      "outputs": [],
      "source": []
    },
    {
      "cell_type": "code",
      "execution_count": 15,
      "id": "3XgDkFqPOuut",
      "metadata": {
        "id": "3XgDkFqPOuut"
      },
      "outputs": [],
      "source": []
    },
    {
      "cell_type": "markdown",
      "id": "fc318af5",
      "metadata": {
        "id": "fc318af5"
      },
      "source": [
        "**12.** 'Parch'"
      ]
    },
    {
      "cell_type": "code",
      "execution_count": 15,
      "id": "1VXvSBzANdVW",
      "metadata": {
        "id": "1VXvSBzANdVW"
      },
      "outputs": [],
      "source": []
    },
    {
      "cell_type": "code",
      "execution_count": 15,
      "id": "6jklpi0WO0n4",
      "metadata": {
        "id": "6jklpi0WO0n4"
      },
      "outputs": [],
      "source": []
    },
    {
      "cell_type": "markdown",
      "id": "122c4f72",
      "metadata": {
        "id": "122c4f72"
      },
      "source": [
        "**13.** 'Embarked'"
      ]
    },
    {
      "cell_type": "code",
      "execution_count": 15,
      "id": "uzhIl4RSNls0",
      "metadata": {
        "id": "uzhIl4RSNls0"
      },
      "outputs": [],
      "source": []
    },
    {
      "cell_type": "code",
      "execution_count": 15,
      "id": "bVmpCwcePGxH",
      "metadata": {
        "id": "bVmpCwcePGxH"
      },
      "outputs": [],
      "source": []
    },
    {
      "cell_type": "markdown",
      "id": "86540870",
      "metadata": {
        "id": "86540870"
      },
      "source": [
        "# One-Hot Encoder VS Ordinal Encoder (Label Encoder)\n",
        "[OneHotEncoder](https://scikit-learn.org/stable/modules/generated/sklearn.preprocessing.OneHotEncoder.html)\n",
        "\n",
        "[OrdinalEncoder](https://scikit-learn.org/stable/modules/generated/sklearn.preprocessing.OrdinalEncoder.html)"
      ]
    },
    {
      "cell_type": "code",
      "execution_count": null,
      "id": "WqEoGNddTQca",
      "metadata": {
        "id": "WqEoGNddTQca"
      },
      "outputs": [],
      "source": [
        "#le = preprocessing.LabelEncoder()   #Use for y\n",
        "from sklearn.preprocessing import OrdinalEncoder   #Use for X\n",
        "from sklearn.preprocessing import OneHotEncoder"
      ]
    },
    {
      "cell_type": "code",
      "execution_count": 15,
      "id": "b74NkKuiTTrY",
      "metadata": {
        "id": "b74NkKuiTTrY"
      },
      "outputs": [],
      "source": []
    }
  ],
  "metadata": {
    "colab": {
      "provenance": []
    },
    "kernelspec": {
      "display_name": "Python 3 (ipykernel)",
      "language": "python",
      "name": "python3"
    },
    "language_info": {
      "codemirror_mode": {
        "name": "ipython",
        "version": 3
      },
      "file_extension": ".py",
      "mimetype": "text/x-python",
      "name": "python",
      "nbconvert_exporter": "python",
      "pygments_lexer": "ipython3",
      "version": "3.9.7"
    }
  },
  "nbformat": 4,
  "nbformat_minor": 5
}