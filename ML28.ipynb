{
  "nbformat": 4,
  "nbformat_minor": 0,
  "metadata": {
    "colab": {
      "provenance": []
    },
    "kernelspec": {
      "name": "python3",
      "display_name": "Python 3"
    },
    "language_info": {
      "name": "python"
    }
  },
  "cells": [
    {
      "cell_type": "markdown",
      "metadata": {
        "id": "gRbe8Kcr8GWN"
      },
      "source": [
        "#**Introduction to PyTorch: Automatic Differentiation**"
      ]
    },
    {
      "cell_type": "code",
      "metadata": {
        "id": "qFUAFYyiYnX4"
      },
      "source": [
        "import numpy as np\n",
        "import torch\n",
        "import sklearn.datasets\n",
        "import matplotlib.pyplot as plt\n",
        "from IPython.display import clear_output\n",
        "#%matplotlib inline"
      ],
      "execution_count": null,
      "outputs": []
    },
    {
      "cell_type": "code",
      "metadata": {
        "colab": {
          "base_uri": "https://localhost:8080/"
        },
        "id": "kHyc1g0M-qPe",
        "outputId": "e08fe9a9-5ce8-440d-f796-cc5e40cdef67"
      },
      "source": [
        "# Create tensors\n",
        "a = torch.tensor(5, dtype = torch.long)\n",
        "b = torch.tensor(5, dtype = torch.int32)\n",
        "b.dtype"
      ],
      "execution_count": null,
      "outputs": [
        {
          "output_type": "execute_result",
          "data": {
            "text/plain": [
              "torch.int32"
            ]
          },
          "metadata": {},
          "execution_count": 3
        }
      ]
    },
    {
      "cell_type": "markdown",
      "source": [
        "Comparison with numpy:\n",
        "https://github.com/torch/torch7/wiki/Torch-for-Numpy-users"
      ],
      "metadata": {
        "id": "iYmts6eMCjzN"
      }
    },
    {
      "cell_type": "code",
      "metadata": {
        "colab": {
          "base_uri": "https://localhost:8080/"
        },
        "id": "spLLH87sIboL",
        "outputId": "15e3d2d7-6189-406a-d5fe-3ac9122cc88c"
      },
      "source": [
        "c = torch.ones(6)\n",
        "print(c, c.dtype)"
      ],
      "execution_count": null,
      "outputs": [
        {
          "output_type": "stream",
          "name": "stdout",
          "text": [
            "tensor([1., 1., 1., 1., 1., 1.]) torch.float32\n"
          ]
        }
      ]
    },
    {
      "cell_type": "code",
      "metadata": {
        "colab": {
          "base_uri": "https://localhost:8080/"
        },
        "id": "k7TD7pTyLhx4",
        "outputId": "2481e9d4-e4b7-4945-9723-cb95f63f0626"
      },
      "source": [
        "# Shape\n",
        "c.size() #x.shape"
      ],
      "execution_count": null,
      "outputs": [
        {
          "output_type": "execute_result",
          "data": {
            "text/plain": [
              "torch.Size([6])"
            ]
          },
          "metadata": {},
          "execution_count": 5
        }
      ]
    },
    {
      "cell_type": "code",
      "metadata": {
        "colab": {
          "base_uri": "https://localhost:8080/"
        },
        "id": "fOhZ8j7NImGR",
        "outputId": "ad8e0fad-e1ff-4d79-bffe-f1186f21728b"
      },
      "source": [
        "# Broadcasting\n",
        "d = c + 1\n",
        "print(d)"
      ],
      "execution_count": null,
      "outputs": [
        {
          "output_type": "stream",
          "name": "stdout",
          "text": [
            "tensor([2., 2., 2., 2., 2., 2.])\n"
          ]
        }
      ]
    },
    {
      "cell_type": "code",
      "metadata": {
        "colab": {
          "base_uri": "https://localhost:8080/"
        },
        "id": "rVDo0fFREEfX",
        "outputId": "bbafd684-4962-42ef-f9a6-63fb511b4d57"
      },
      "source": [
        "# Change type\n",
        "b.float() #b.to(torch.float)\n",
        "b.dtype"
      ],
      "execution_count": null,
      "outputs": [
        {
          "output_type": "execute_result",
          "data": {
            "text/plain": [
              "torch.int32"
            ]
          },
          "metadata": {},
          "execution_count": 12
        }
      ]
    },
    {
      "cell_type": "code",
      "metadata": {
        "colab": {
          "base_uri": "https://localhost:8080/"
        },
        "id": "UQ3LsvLjFOxZ",
        "outputId": "c7670956-0647-4acd-b6e6-5ae019d1f37b"
      },
      "source": [
        "# Reshape tensors\n",
        "c.view(2,3)"
      ],
      "execution_count": null,
      "outputs": [
        {
          "output_type": "execute_result",
          "data": {
            "text/plain": [
              "tensor([[1., 1., 1.],\n",
              "        [1., 1., 1.]])"
            ]
          },
          "metadata": {},
          "execution_count": 31
        }
      ]
    },
    {
      "cell_type": "code",
      "metadata": {
        "colab": {
          "base_uri": "https://localhost:8080/"
        },
        "id": "43qSMP_JGS1s",
        "outputId": "c5997b41-6e3c-463a-eb03-a4d5eb81ac47"
      },
      "source": [
        "# Squeeze/Unsqueeze\n",
        "c.unsqueeze(dim=0).shape"
      ],
      "execution_count": null,
      "outputs": [
        {
          "output_type": "execute_result",
          "data": {
            "text/plain": [
              "torch.Size([1, 6])"
            ]
          },
          "metadata": {},
          "execution_count": 32
        }
      ]
    },
    {
      "cell_type": "code",
      "metadata": {
        "id": "8NyOgp8SFS9z"
      },
      "source": [
        "# Dot product VS matrix multiplication"
      ],
      "execution_count": null,
      "outputs": []
    },
    {
      "cell_type": "code",
      "metadata": {
        "id": "ZqTkukyHY_Xe",
        "colab": {
          "base_uri": "https://localhost:8080/"
        },
        "outputId": "a1c75c9e-719f-4cf4-b93c-f38c3b866342"
      },
      "source": [
        "d.dot(c) #torch.matmul(d.T,c)"
      ],
      "execution_count": null,
      "outputs": [
        {
          "output_type": "execute_result",
          "data": {
            "text/plain": [
              "tensor(12.)"
            ]
          },
          "metadata": {},
          "execution_count": 34
        }
      ]
    },
    {
      "cell_type": "markdown",
      "source": [
        "###In-place operations\n",
        "\n",
        "The memory must be used efficiently when working with large tensors. Some operations create new object as the result of computations, others just change given object (in-place operations). In pytorch, these operations usually differ by adding an underscore:\n",
        "\n",
        "`x.exp()   # not-in-place operation`\n",
        "\n",
        "`x.exp_()  # in-place operation`\n",
        "\n"
      ],
      "metadata": {
        "id": "Id9lu0peFpZt"
      }
    },
    {
      "cell_type": "markdown",
      "metadata": {
        "id": "xI7lcI40HnLO"
      },
      "source": [
        "## Automatic Differentiation\n",
        "tensor.data, tensor.grad, tensor.grad_fn\n",
        "## Detaching variables\n",
        "\n",
        "`.detach()` returns a copy of a variable, through which backpropagation doesn't pass. If you average or just store batch losses during the optimization, you'd better detach those losses before averaging or storing. Otherwise the computational graphs for each batch would be stored in memory as well as batch losses, so you run out of memory very fast.\n",
        "\n",
        "Also there is in-place version (`.detach_()`) which doesn't create detached copy of the variable, but detach variable itself from its computational graph."
      ]
    },
    {
      "cell_type": "code",
      "metadata": {
        "id": "ccvARo18HmFW"
      },
      "source": [
        "a = torch.rand(1, requires_grad=True)\n",
        "b = torch.sin(a)"
      ],
      "execution_count": null,
      "outputs": []
    },
    {
      "cell_type": "markdown",
      "metadata": {
        "id": "VNi4wxsEmWpz"
      },
      "source": [
        "Q5.Use method tensor.backward for b and print the derivative of b with respect to a (a.grad)."
      ]
    },
    {
      "cell_type": "code",
      "metadata": {
        "id": "b8X73_H7mW7_",
        "colab": {
          "base_uri": "https://localhost:8080/"
        },
        "outputId": "0022afa2-e2a2-4a13-aa52-f3e744534d8c"
      },
      "source": [
        "b.backward()\n",
        "print(a.grad, torch.cos(a.data))"
      ],
      "execution_count": null,
      "outputs": [
        {
          "output_type": "stream",
          "name": "stdout",
          "text": [
            "tensor([0.9961]) tensor([0.9961])\n"
          ]
        }
      ]
    },
    {
      "cell_type": "code",
      "source": [
        "x = torch.randn(4, requires_grad=True)\n",
        "y0 = torch.randn(4, requires_grad=True)\n",
        "y = y0.detach()\n",
        "z = x * y + 10\n",
        "p = z.sum()\n",
        "p.backward()\n",
        "print('x:', x.data)\n",
        "print('y:', y.data)\n",
        "print('dp / dx:', x.grad)\n",
        "print('dp / dy:', y.grad)"
      ],
      "metadata": {
        "id": "zkcjo9z5H1_-"
      },
      "execution_count": null,
      "outputs": []
    },
    {
      "cell_type": "markdown",
      "source": [
        "##Gradient reset"
      ],
      "metadata": {
        "id": "qPg0PpEWIEPo"
      }
    },
    {
      "cell_type": "code",
      "source": [
        "x = torch.tensor([1, 1, 1, 1.], requires_grad=True)\n",
        "y = x ** 2\n",
        "p = y.sum()\n",
        "p.backward()\n",
        "print('x:', x)\n",
        "print('dp / dx:', x.grad)\n",
        "x.grad.detach_()       # extracting gradient Variable from the previous computational graph (optional)\n",
        "x.grad.zero_()         # zero gradinents\n",
        "y = 1 / x\n",
        "p = y.sum()\n",
        "p.backward()\n",
        "print('x:', x)\n",
        "print('dp / dx:', x.grad)"
      ],
      "metadata": {
        "id": "Hm3nBbPGIIUd"
      },
      "execution_count": null,
      "outputs": []
    },
    {
      "cell_type": "markdown",
      "source": [
        "##Leaf vs Non-leaf Variable"
      ],
      "metadata": {
        "id": "MAU6pqqmIU0J"
      }
    },
    {
      "cell_type": "code",
      "source": [
        "x = torch.randn(4, requires_grad=True)  # leaf variable\n",
        "y = x + 1                               # not a leaf variable\n",
        "p = y.sum()                             # not a leaf variable\n",
        "p.backward()\n",
        "print('x:', x)\n",
        "print('y:', y)\n",
        "print('p:', p)\n",
        "print('x.grad:', x.grad)\n",
        "print('y.grad:', y.grad)\n",
        "print('p.grad:', p.grad)"
      ],
      "metadata": {
        "id": "og5CoaMrIWN0"
      },
      "execution_count": null,
      "outputs": []
    },
    {
      "cell_type": "markdown",
      "source": [
        "##Gradients for non-leaf variables"
      ],
      "metadata": {
        "id": "BY1CXo_rIjNN"
      }
    },
    {
      "cell_type": "code",
      "source": [
        "x = torch.randn(4, requires_grad=True)   # leaf variable\n",
        "z = torch.randn(4, requires_grad=True)   # leaf variable\n",
        "w = z * 2      # not a leaf variable\n",
        "y = x * w + 1  # forward pass before retaining gradient is ok\n",
        "p = y.sum()\n",
        "\n",
        "w.retain_grad()\n",
        "\n",
        "p.backward()\n",
        "print('dp / dx:', x.grad)\n",
        "print('dp / dz:', z.grad)\n",
        "print('dp / dw:', w.grad)"
      ],
      "metadata": {
        "id": "oQ8AK5u2Ikr6"
      },
      "execution_count": null,
      "outputs": []
    },
    {
      "cell_type": "markdown",
      "metadata": {
        "id": "wyqHVvv7nCw4"
      },
      "source": [
        "## In this section, we use atomatic differentiation for the Gradient Descend"
      ]
    },
    {
      "cell_type": "code",
      "source": [
        "torch.manual_seed(0)\n",
        "x = torch.linspace(1, 5, 20)\n",
        "y = 2*x + 1 + 5*torch.rand(len(x))"
      ],
      "metadata": {
        "id": "OmyTS55GJrWr"
      },
      "execution_count": null,
      "outputs": []
    },
    {
      "cell_type": "code",
      "source": [
        "plt.scatter(x,y)"
      ],
      "metadata": {
        "id": "HVDoWuQRKKmE",
        "outputId": "aa3696d8-68b9-4af5-b1b8-249bcdbb610a",
        "colab": {
          "base_uri": "https://localhost:8080/",
          "height": 448
        }
      },
      "execution_count": null,
      "outputs": [
        {
          "output_type": "execute_result",
          "data": {
            "text/plain": [
              "<matplotlib.collections.PathCollection at 0x7e4dab896c50>"
            ]
          },
          "metadata": {},
          "execution_count": 19
        },
        {
          "output_type": "display_data",
          "data": {
            "text/plain": [
              "<Figure size 640x480 with 1 Axes>"
            ],
            "image/png": "[encoded data removed]"
          },
          "metadata": {}
        }
      ]
    },
    {
      "cell_type": "code",
      "metadata": {
        "id": "Q3Sx-jCTjvnn"
      },
      "source": [
        "w = torch.rand(1, requires_grad=True)\n",
        "b = torch.rand(1, requires_grad=True)"
      ],
      "execution_count": null,
      "outputs": []
    },
    {
      "cell_type": "code",
      "metadata": {
        "id": "FiTfMbRbUN4M"
      },
      "source": [
        "# w = w_0.clone().detach().requires_grad_(True)\n",
        "# b = b_0.clone().detach().requires_grad_(True)"
      ],
      "execution_count": null,
      "outputs": []
    },
    {
      "cell_type": "code",
      "metadata": {
        "colab": {
          "base_uri": "https://localhost:8080/",
          "height": 728
        },
        "id": "OcmooxsLmK0R",
        "outputId": "a4893329-0e28-48d2-fd53-4267518e8968"
      },
      "source": [
        "alpha = 0.001\n",
        "for i in range(100):\n",
        "  if w.grad is not None:\n",
        "    w.grad.zero_()\n",
        "    b.grad.zero_()\n",
        "  w.requires_grad_(True)\n",
        "  b.requires_grad_(True)\n",
        "  y_p = w*x+b\n",
        "  loss = torch.mean((y_p-y)**2)\n",
        "  loss.backward()\n",
        "  #w.data = w.data - alpha*w.grad\n",
        "  #b.data = b.data - alpha*b.grad\n",
        "  with torch.no_grad():\n",
        "    w = w - alpha*w.grad\n",
        "    b = b - alpha*b.grad\n",
        "\n",
        "  if (i + 1) % 5 == 0:\n",
        "    clear_output(True)\n",
        "    plt.figure(figsize=(10,8))\n",
        "    plt.scatter(x, y, label=\"data\")\n",
        "    plt.scatter(x, y_p.data.numpy(), color=\"orange\", linewidth=5, label=\"predictions\")\n",
        "    plt.xlabel(\"x\", fontsize=14)\n",
        "    plt.ylabel(\"y\", fontsize=14)\n",
        "    plt.title(\"Example\", fontsize=18)\n",
        "    plt.legend(fontsize=14)\n",
        "    plt.show()"
      ],
      "execution_count": null,
      "outputs": [
        {
          "output_type": "display_data",
          "data": {
            "text/plain": [
              "<Figure size 1000x800 with 1 Axes>"
            ],
            "image/png": "[encoded data removed]"
          },
          "metadata": {}
        }
      ]
    }
  ]
}