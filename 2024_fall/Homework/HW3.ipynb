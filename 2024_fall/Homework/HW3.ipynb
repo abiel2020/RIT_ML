{
  "nbformat": 4,
  "nbformat_minor": 0,
  "metadata": {
    "colab": {
      "provenance": []
    },
    "kernelspec": {
      "name": "python3",
      "display_name": "Python 3"
    },
    "language_info": {
      "name": "python"
    }
  },
  "cells": [
    {
      "cell_type": "markdown",
      "source": [
        "#Homework 3: Gradien Descent and Model (parameters/features) Selection (20pt)"
      ],
      "metadata": {
        "id": "-WFKD1qwG9yQ"
      }
    },
    {
      "cell_type": "code",
      "execution_count": 1,
      "metadata": {
        "id": "aKp6ahFt4vIa"
      },
      "outputs": [],
      "source": [
        "#from mpl_toolkits.mplot3d import Axes3D\n",
        "import matplotlib.pyplot as plt\n",
        "import numpy as np\n",
        "#from matplotlib import cm\n",
        "#%matplotlib inline\n",
        "import pandas as pd\n",
        "from sklearn.impute import SimpleImputer\n",
        "from sklearn.preprocessing import StandardScaler\n",
        "from IPython.display import clear_output\n",
        "%matplotlib inline"
      ]
    },
    {
      "cell_type": "markdown",
      "source": [
        "### Download the dataset from class, missing values imputed for you"
      ],
      "metadata": {
        "id": "KuAyXCmEGCNX"
      }
    },
    {
      "cell_type": "code",
      "source": [
        "Data = pd.read_csv(\"https://archive.ics.uci.edu/ml/machine-learning-databases/autos/imports-85.data\",\n",
        "                    header=None, na_values=[\"?\"])\n",
        "Data.dropna(subset=Data.columns[Data.columns != 1], inplace=True)\n",
        "imputer = SimpleImputer()\n",
        "Data[1] = imputer.fit_transform(Data[[1]])"
      ],
      "metadata": {
        "id": "cN6SOYFdEUds"
      },
      "execution_count": 2,
      "outputs": []
    },
    {
      "cell_type": "code",
      "source": [
        "#pd.set_option('display.max_columns', None)\n",
        "Data.head()"
      ],
      "metadata": {
        "id": "bhAVOjNtG0QZ",
        "outputId": "9010be93-6903-42d7-99dd-d2e1bacb0bc3",
        "colab": {
          "base_uri": "https://localhost:8080/",
          "height": 235
        }
      },
      "execution_count": 3,
      "outputs": [
        {
          "output_type": "execute_result",
          "data": {
            "text/plain": [
              "   0           1            2    3    4     5            6    7      8     9   \\\n",
              "0   3  121.132075  alfa-romero  gas  std   two  convertible  rwd  front  88.6   \n",
              "1   3  121.132075  alfa-romero  gas  std   two  convertible  rwd  front  88.6   \n",
              "2   1  121.132075  alfa-romero  gas  std   two    hatchback  rwd  front  94.5   \n",
              "3   2  164.000000         audi  gas  std  four        sedan  fwd  front  99.8   \n",
              "4   2  164.000000         audi  gas  std  four        sedan  4wd  front  99.4   \n",
              "\n",
              "   ...   16    17    18    19    20     21      22  23  24       25  \n",
              "0  ...  130  mpfi  3.47  2.68   9.0  111.0  5000.0  21  27  13495.0  \n",
              "1  ...  130  mpfi  3.47  2.68   9.0  111.0  5000.0  21  27  16500.0  \n",
              "2  ...  152  mpfi  2.68  3.47   9.0  154.0  5000.0  19  26  16500.0  \n",
              "3  ...  109  mpfi  3.19  3.40  10.0  102.0  5500.0  24  30  13950.0  \n",
              "4  ...  136  mpfi  3.19  3.40   8.0  115.0  5500.0  18  22  17450.0  \n",
              "\n",
              "[5 rows x 26 columns]"
            ],
            "text/html": [
              "\n",
              "  <div id=\"df-7237d900-ca33-4ca9-a6ca-e1fd0987ebe2\" class=\"colab-df-container\">\n",
              "    <div>\n",
              "<style scoped>\n",
              "    .dataframe tbody tr th:only-of-type {\n",
              "        vertical-align: middle;\n",
              "    }\n",
              "\n",
              "    .dataframe tbody tr th {\n",
              "        vertical-align: top;\n",
              "    }\n",
              "\n",
              "    .dataframe thead th {\n",
              "        text-align: right;\n",
              "    }\n",
              "</style>\n",
              "<table border=\"1\" class=\"dataframe\">\n",
              "  <thead>\n",
              "    <tr style=\"text-align: right;\">\n",
              "      <th></th>\n",
              "      <th>0</th>\n",
              "      <th>1</th>\n",
              "      <th>2</th>\n",
              "      <th>3</th>\n",
              "      <th>4</th>\n",
              "      <th>5</th>\n",
              "      <th>6</th>\n",
              "      <th>7</th>\n",
              "      <th>8</th>\n",
              "      <th>9</th>\n",
              "      <th>...</th>\n",
              "      <th>16</th>\n",
              "      <th>17</th>\n",
              "      <th>18</th>\n",
              "      <th>19</th>\n",
              "      <th>20</th>\n",
              "      <th>21</th>\n",
              "      <th>22</th>\n",
              "      <th>23</th>\n",
              "      <th>24</th>\n",
              "      <th>25</th>\n",
              "    </tr>\n",
              "  </thead>\n",
              "  <tbody>\n",
              "    <tr>\n",
              "      <th>0</th>\n",
              "      <td>3</td>\n",
              "      <td>121.132075</td>\n",
              "      <td>alfa-romero</td>\n",
              "      <td>gas</td>\n",
              "      <td>std</td>\n",
              "      <td>two</td>\n",
              "      <td>convertible</td>\n",
              "      <td>rwd</td>\n",
              "      <td>front</td>\n",
              "      <td>88.6</td>\n",
              "      <td>...</td>\n",
              "      <td>130</td>\n",
              "      <td>mpfi</td>\n",
              "      <td>3.47</td>\n",
              "      <td>2.68</td>\n",
              "      <td>9.0</td>\n",
              "      <td>111.0</td>\n",
              "      <td>5000.0</td>\n",
              "      <td>21</td>\n",
              "      <td>27</td>\n",
              "      <td>13495.0</td>\n",
              "    </tr>\n",
              "    <tr>\n",
              "      <th>1</th>\n",
              "      <td>3</td>\n",
              "      <td>121.132075</td>\n",
              "      <td>alfa-romero</td>\n",
              "      <td>gas</td>\n",
              "      <td>std</td>\n",
              "      <td>two</td>\n",
              "      <td>convertible</td>\n",
              "      <td>rwd</td>\n",
              "      <td>front</td>\n",
              "      <td>88.6</td>\n",
              "      <td>...</td>\n",
              "      <td>130</td>\n",
              "      <td>mpfi</td>\n",
              "      <td>3.47</td>\n",
              "      <td>2.68</td>\n",
              "      <td>9.0</td>\n",
              "      <td>111.0</td>\n",
              "      <td>5000.0</td>\n",
              "      <td>21</td>\n",
              "      <td>27</td>\n",
              "      <td>16500.0</td>\n",
              "    </tr>\n",
              "    <tr>\n",
              "      <th>2</th>\n",
              "      <td>1</td>\n",
              "      <td>121.132075</td>\n",
              "      <td>alfa-romero</td>\n",
              "      <td>gas</td>\n",
              "      <td>std</td>\n",
              "      <td>two</td>\n",
              "      <td>hatchback</td>\n",
              "      <td>rwd</td>\n",
              "      <td>front</td>\n",
              "      <td>94.5</td>\n",
              "      <td>...</td>\n",
              "      <td>152</td>\n",
              "      <td>mpfi</td>\n",
              "      <td>2.68</td>\n",
              "      <td>3.47</td>\n",
              "      <td>9.0</td>\n",
              "      <td>154.0</td>\n",
              "      <td>5000.0</td>\n",
              "      <td>19</td>\n",
              "      <td>26</td>\n",
              "      <td>16500.0</td>\n",
              "    </tr>\n",
              "    <tr>\n",
              "      <th>3</th>\n",
              "      <td>2</td>\n",
              "      <td>164.000000</td>\n",
              "      <td>audi</td>\n",
              "      <td>gas</td>\n",
              "      <td>std</td>\n",
              "      <td>four</td>\n",
              "      <td>sedan</td>\n",
              "      <td>fwd</td>\n",
              "      <td>front</td>\n",
              "      <td>99.8</td>\n",
              "      <td>...</td>\n",
              "      <td>109</td>\n",
              "      <td>mpfi</td>\n",
              "      <td>3.19</td>\n",
              "      <td>3.40</td>\n",
              "      <td>10.0</td>\n",
              "      <td>102.0</td>\n",
              "      <td>5500.0</td>\n",
              "      <td>24</td>\n",
              "      <td>30</td>\n",
              "      <td>13950.0</td>\n",
              "    </tr>\n",
              "    <tr>\n",
              "      <th>4</th>\n",
              "      <td>2</td>\n",
              "      <td>164.000000</td>\n",
              "      <td>audi</td>\n",
              "      <td>gas</td>\n",
              "      <td>std</td>\n",
              "      <td>four</td>\n",
              "      <td>sedan</td>\n",
              "      <td>4wd</td>\n",
              "      <td>front</td>\n",
              "      <td>99.4</td>\n",
              "      <td>...</td>\n",
              "      <td>136</td>\n",
              "      <td>mpfi</td>\n",
              "      <td>3.19</td>\n",
              "      <td>3.40</td>\n",
              "      <td>8.0</td>\n",
              "      <td>115.0</td>\n",
              "      <td>5500.0</td>\n",
              "      <td>18</td>\n",
              "      <td>22</td>\n",
              "      <td>17450.0</td>\n",
              "    </tr>\n",
              "  </tbody>\n",
              "</table>\n",
              "<p>5 rows × 26 columns</p>\n",
              "</div>\n",
              "    <div class=\"colab-df-buttons\">\n",
              "\n",
              "  <div class=\"colab-df-container\">\n",
              "    <button class=\"colab-df-convert\" onclick=\"convertToInteractive('df-7237d900-ca33-4ca9-a6ca-e1fd0987ebe2')\"\n",
              "            title=\"Convert this dataframe to an interactive table.\"\n",
              "            style=\"display:none;\">\n",
              "\n",
              "  <svg xmlns=\"http://www.w3.org/2000/svg\" height=\"24px\" viewBox=\"0 -960 960 960\">\n",
              "    <path d=\"M120-120v-720h720v720H120Zm60-500h600v-160H180v160Zm220 220h160v-160H400v160Zm0 220h160v-160H400v160ZM180-400h160v-160H180v160Zm440 0h160v-160H620v160ZM180-180h160v-160H180v160Zm440 0h160v-160H620v160Z\"/>\n",
              "  </svg>\n",
              "    </button>\n",
              "\n",
              "  <style>\n",
              "    .colab-df-container {\n",
              "      display:flex;\n",
              "      gap: 12px;\n",
              "    }\n",
              "\n",
              "    .colab-df-convert {\n",
              "      background-color: #E8F0FE;\n",
              "      border: none;\n",
              "      border-radius: 50%;\n",
              "      cursor: pointer;\n",
              "      display: none;\n",
              "      fill: #1967D2;\n",
              "      height: 32px;\n",
              "      padding: 0 0 0 0;\n",
              "      width: 32px;\n",
              "    }\n",
              "\n",
              "    .colab-df-convert:hover {\n",
              "      background-color: #E2EBFA;\n",
              "      box-shadow: 0px 1px 2px rgba(60, 64, 67, 0.3), 0px 1px 3px 1px rgba(60, 64, 67, 0.15);\n",
              "      fill: #174EA6;\n",
              "    }\n",
              "\n",
              "    .colab-df-buttons div {\n",
              "      margin-bottom: 4px;\n",
              "    }\n",
              "\n",
              "    [theme=dark] .colab-df-convert {\n",
              "      background-color: #3B4455;\n",
              "      fill: #D2E3FC;\n",
              "    }\n",
              "\n",
              "    [theme=dark] .colab-df-convert:hover {\n",
              "      background-color: #434B5C;\n",
              "      box-shadow: 0px 1px 3px 1px rgba(0, 0, 0, 0.15);\n",
              "      filter: drop-shadow(0px 1px 2px rgba(0, 0, 0, 0.3));\n",
              "      fill: #FFFFFF;\n",
              "    }\n",
              "  </style>\n",
              "\n",
              "    <script>\n",
              "      const buttonEl =\n",
              "        document.querySelector('#df-7237d900-ca33-4ca9-a6ca-e1fd0987ebe2 button.colab-df-convert');\n",
              "      buttonEl.style.display =\n",
              "        google.colab.kernel.accessAllowed ? 'block' : 'none';\n",
              "\n",
              "      async function convertToInteractive(key) {\n",
              "        const element = document.querySelector('#df-7237d900-ca33-4ca9-a6ca-e1fd0987ebe2');\n",
              "        const dataTable =\n",
              "          await google.colab.kernel.invokeFunction('convertToInteractive',\n",
              "                                                    [key], {});\n",
              "        if (!dataTable) return;\n",
              "\n",
              "        const docLinkHtml = 'Like what you see? Visit the ' +\n",
              "          '<a target=\"_blank\" href=https://colab.research.google.com/notebooks/data_table.ipynb>data table notebook</a>'\n",
              "          + ' to learn more about interactive tables.';\n",
              "        element.innerHTML = '';\n",
              "        dataTable['output_type'] = 'display_data';\n",
              "        await google.colab.output.renderOutput(dataTable, element);\n",
              "        const docLink = document.createElement('div');\n",
              "        docLink.innerHTML = docLinkHtml;\n",
              "        element.appendChild(docLink);\n",
              "      }\n",
              "    </script>\n",
              "  </div>\n",
              "\n",
              "\n",
              "<div id=\"df-745595da-76ae-49c3-85d8-ee9beb74875f\">\n",
              "  <button class=\"colab-df-quickchart\" onclick=\"quickchart('df-745595da-76ae-49c3-85d8-ee9beb74875f')\"\n",
              "            title=\"Suggest charts\"\n",
              "            style=\"display:none;\">\n",
              "\n",
              "<svg xmlns=\"http://www.w3.org/2000/svg\" height=\"24px\"viewBox=\"0 0 24 24\"\n",
              "     width=\"24px\">\n",
              "    <g>\n",
              "        <path d=\"M19 3H5c-1.1 0-2 .9-2 2v14c0 1.1.9 2 2 2h14c1.1 0 2-.9 2-2V5c0-1.1-.9-2-2-2zM9 17H7v-7h2v7zm4 0h-2V7h2v10zm4 0h-2v-4h2v4z\"/>\n",
              "    </g>\n",
              "</svg>\n",
              "  </button>\n",
              "\n",
              "<style>\n",
              "  .colab-df-quickchart {\n",
              "      --bg-color: #E8F0FE;\n",
              "      --fill-color: #1967D2;\n",
              "      --hover-bg-color: #E2EBFA;\n",
              "      --hover-fill-color: #174EA6;\n",
              "      --disabled-fill-color: #AAA;\n",
              "      --disabled-bg-color: #DDD;\n",
              "  }\n",
              "\n",
              "  [theme=dark] .colab-df-quickchart {\n",
              "      --bg-color: #3B4455;\n",
              "      --fill-color: #D2E3FC;\n",
              "      --hover-bg-color: #434B5C;\n",
              "      --hover-fill-color: #FFFFFF;\n",
              "      --disabled-bg-color: #3B4455;\n",
              "      --disabled-fill-color: #666;\n",
              "  }\n",
              "\n",
              "  .colab-df-quickchart {\n",
              "    background-color: var(--bg-color);\n",
              "    border: none;\n",
              "    border-radius: 50%;\n",
              "    cursor: pointer;\n",
              "    display: none;\n",
              "    fill: var(--fill-color);\n",
              "    height: 32px;\n",
              "    padding: 0;\n",
              "    width: 32px;\n",
              "  }\n",
              "\n",
              "  .colab-df-quickchart:hover {\n",
              "    background-color: var(--hover-bg-color);\n",
              "    box-shadow: 0 1px 2px rgba(60, 64, 67, 0.3), 0 1px 3px 1px rgba(60, 64, 67, 0.15);\n",
              "    fill: var(--button-hover-fill-color);\n",
              "  }\n",
              "\n",
              "  .colab-df-quickchart-complete:disabled,\n",
              "  .colab-df-quickchart-complete:disabled:hover {\n",
              "    background-color: var(--disabled-bg-color);\n",
              "    fill: var(--disabled-fill-color);\n",
              "    box-shadow: none;\n",
              "  }\n",
              "\n",
              "  .colab-df-spinner {\n",
              "    border: 2px solid var(--fill-color);\n",
              "    border-color: transparent;\n",
              "    border-bottom-color: var(--fill-color);\n",
              "    animation:\n",
              "      spin 1s steps(1) infinite;\n",
              "  }\n",
              "\n",
              "  @keyframes spin {\n",
              "    0% {\n",
              "      border-color: transparent;\n",
              "      border-bottom-color: var(--fill-color);\n",
              "      border-left-color: var(--fill-color);\n",
              "    }\n",
              "    20% {\n",
              "      border-color: transparent;\n",
              "      border-left-color: var(--fill-color);\n",
              "      border-top-color: var(--fill-color);\n",
              "    }\n",
              "    30% {\n",
              "      border-color: transparent;\n",
              "      border-left-color: var(--fill-color);\n",
              "      border-top-color: var(--fill-color);\n",
              "      border-right-color: var(--fill-color);\n",
              "    }\n",
              "    40% {\n",
              "      border-color: transparent;\n",
              "      border-right-color: var(--fill-color);\n",
              "      border-top-color: var(--fill-color);\n",
              "    }\n",
              "    60% {\n",
              "      border-color: transparent;\n",
              "      border-right-color: var(--fill-color);\n",
              "    }\n",
              "    80% {\n",
              "      border-color: transparent;\n",
              "      border-right-color: var(--fill-color);\n",
              "      border-bottom-color: var(--fill-color);\n",
              "    }\n",
              "    90% {\n",
              "      border-color: transparent;\n",
              "      border-bottom-color: var(--fill-color);\n",
              "    }\n",
              "  }\n",
              "</style>\n",
              "\n",
              "  <script>\n",
              "    async function quickchart(key) {\n",
              "      const quickchartButtonEl =\n",
              "        document.querySelector('#' + key + ' button');\n",
              "      quickchartButtonEl.disabled = true;  // To prevent multiple clicks.\n",
              "      quickchartButtonEl.classList.add('colab-df-spinner');\n",
              "      try {\n",
              "        const charts = await google.colab.kernel.invokeFunction(\n",
              "            'suggestCharts', [key], {});\n",
              "      } catch (error) {\n",
              "        console.error('Error during call to suggestCharts:', error);\n",
              "      }\n",
              "      quickchartButtonEl.classList.remove('colab-df-spinner');\n",
              "      quickchartButtonEl.classList.add('colab-df-quickchart-complete');\n",
              "    }\n",
              "    (() => {\n",
              "      let quickchartButtonEl =\n",
              "        document.querySelector('#df-745595da-76ae-49c3-85d8-ee9beb74875f button');\n",
              "      quickchartButtonEl.style.display =\n",
              "        google.colab.kernel.accessAllowed ? 'block' : 'none';\n",
              "    })();\n",
              "  </script>\n",
              "</div>\n",
              "\n",
              "    </div>\n",
              "  </div>\n"
            ],
            "application/vnd.google.colaboratory.intrinsic+json": {
              "type": "dataframe",
              "variable_name": "Data"
            }
          },
          "metadata": {},
          "execution_count": 3
        }
      ]
    },
    {
      "cell_type": "markdown",
      "source": [
        "We itroduced Stochastic Gradien Descent algorithm:\n",
        "\n",
        "1) Initialize randomly weights $w=(w_0, w_1, \\ldots, w_d)^T$\n",
        "\n",
        "2) Take a point $\\tilde{x}^{(i)}=(x_0^{(i)}, x_1^{(i)}, \\ldots, x_d^{(i)})^T$ with $x_0^{(i)}=1$\n",
        "\n",
        "3) Calculate error (MSE) on it:\n",
        "$$Loss(a(x^{(i)}), y^{(i)}) = (w^T\\tilde{x}^{(i)} - y^{(i)})^2 \\qquad \\text{ or }\\quad (y^{(i)} - w^T\\tilde{x}^{(i)})^2$$\n",
        "\n",
        "4) Calculate gradient of the loss function:\n",
        "$$\\nabla Loss(a(x^{(i)}), y^{(i)}) = 2\\tilde{x}^{(i)}(w^T\\tilde{x}^{(i)} - y^{(i)})\\qquad (*)$$\n",
        "\n",
        "5) Update weights:\n",
        "$$\n",
        "w^{new} = w^{old} - \\nabla Loss(a(x^{(i)}), y^{(i)})\n",
        "$$"
      ],
      "metadata": {
        "id": "38I3k29pEA52"
      }
    },
    {
      "cell_type": "markdown",
      "source": [
        "*Derivation of the expression $(*)$.* The loss function looks as follows:\n",
        "$$Loss(a(x^{(i)}), y^{(i)})=(w_0x_0^{(i)}+w_1x_1^{(i)}+\\ldots+w_dx_d^{(i)} - y^{(i)})^2$$\n",
        "Gradient is a vector of derivatives with respect to every $w_j:$\n",
        "$$\\nabla (w_0x_0^{(i)}+w_1x_1^{(i)}+\\ldots+w_dx_d^{(i)} - y^{(i)})^2\n",
        "= \\begin{pmatrix}2x_0^{(i)}(w_0x_0^{(i)}+w_1x_1^{(i)} + \\ldots +w_dx_d^{(i)} - y^{(i)}) \\\\ 2x_1^{(i)}(w_0x_0^{(i)}+w_1x_1^{(i)} + \\ldots +w_dx_d^{(i)} - y^{(i)})\\\\ \\vdots \\\\ 2x_d^{(i)}(w_0x_0^{(i)}+w_1x_1^{(i)}+\\ldots+w_dx_d^{(i)} - y^{(i)})\\end{pmatrix}$$\n",
        "$$= \\begin{pmatrix}2x_0^{(i)} \\\\ 2x_1^{(i)}\\\\ \\vdots \\\\ 2x_d^{(i)}\\end{pmatrix} (w_0x_0^{(i)}+w_1x_1^{(i)}+\\ldots+w_dx_d^{(i)} - y^{(i)}) =2\\tilde{x}^{(i)}(w^T\\tilde{x}^{(i)} - y^{(i)})$$"
      ],
      "metadata": {
        "id": "an7ekya6WHq-"
      }
    },
    {
      "cell_type": "markdown",
      "source": [
        "#1. (7pt) A class with realization of SGD algorithm is provided below. There is a parameter *batch_size=1.* You are asked to add code, such that for *batch_size=B>1* it performes mini-batch SGD and for *batch_size=0* it peformes standard Gradient Descent using full batch.  "
      ],
      "metadata": {
        "id": "gnt41iEFWOVn"
      }
    },
    {
      "cell_type": "markdown",
      "source": [
        "Do not use $sum()$ or for loop at all. For example, to compute the loss over all the data, we use matrix nodation\n",
        "$$\n",
        "\\frac{1}{N}\\sum_{i=1}^{N}(w^T\\tilde{x}^{(i)}-y^{(i)})^2=\\frac{1}{N}(Xw-y)^T(Xw-y)\n",
        "$$\n",
        "that can be coded as\n",
        "``(X.dot(w)-y).dot(X.dot(w)-y)/len(y)``.\n",
        "\n",
        "You can get some ideas from [the SGD notebook](https://github.com/anton-selitskiy/RIT_ML/blob/main/2024_fall/Lectures/ML9.ipynb)"
      ],
      "metadata": {
        "id": "Jk1R9Ygyen0m"
      }
    },
    {
      "cell_type": "code",
      "source": [
        "class SGD():\n",
        "  def __init__(self, batch_size=1, lr=1e-3, max_epoch=100):\n",
        "    self.batch_size = batch_size\n",
        "    self.lr = lr\n",
        "    self.max_epoch = max_epoch\n",
        "\n",
        "\n",
        "  def loss(self, x, y):\n",
        "    '''\n",
        "    x and y are the input parameters from fit,\n",
        "    they are elements of self.X and self.y of the size\n",
        "    (2, ) and (1, ) respectively\n",
        "    '''\n",
        "    return (x.dot(self.w)-y)**2\n",
        "\n",
        "  def loss_grad(self, x, y):\n",
        "    '''\n",
        "    x and y are the input parameters from fit,\n",
        "    they are elements of self.X and self.y of the size\n",
        "    (2, ) and (1, ) respectively\n",
        "    '''\n",
        "    return 2*x*(x.dot(self.w)-y)\n",
        "\n",
        "  def batch_loss(self, X, y):\n",
        "    '''\n",
        "    X and y are the input parameters from fit,\n",
        "    they are submatrices of self.X and self.y of the size\n",
        "    (Batch_size, 2) and (Batch_size, ) respectively\n",
        "    '''\n",
        "    #your code here\n",
        "    pass\n",
        "\n",
        "  def batch_loss_grad(self, X, y):\n",
        "    '''\n",
        "    X and y are the input parameters from fit,\n",
        "    they are submatrices of self.X and self.y of the size\n",
        "    (Batch_size, 2) and (Batch_size, ) respectively\n",
        "    '''\n",
        "    #your code here\n",
        "    pass\n",
        "\n",
        "  def fit(self, X, y):\n",
        "    self.X = np.hstack((np.ones((len(X),1)),X.values))\n",
        "    self.y = y.values\n",
        "    self.w = np.random.rand(self.X.shape[1])\n",
        "    for epoch in range(self.max_epoch):\n",
        "      if self.batch_size == 1:\n",
        "        for i in range(len(self.X)):\n",
        "          self.w -= self.lr*self.loss_grad(self.X[i,:], self.y[i])\n",
        "      else:\n",
        "        #self.batch_size == 0 or >1\n",
        "        #your code here\n",
        "        pass\n",
        "\n",
        "      # Uncomment for Visualisation (after filling in batch_loss function or comment that line)\n",
        "      if (epoch + 1) % 10 == 0:\n",
        "        # clear_output(True)\n",
        "        # plt.figure(figsize=(10,8))\n",
        "        # plt.scatter(self.X[:,1], self.y, label=\"data\")\n",
        "        # plt.scatter(self.X[:,1], self.X.dot(self.w), color=\"orange\", linewidth=5, label=\"predictions\")\n",
        "        # plt.xlabel(\"Feature 13\", fontsize=14)\n",
        "        # plt.ylabel(\"Car Price\", fontsize=14)\n",
        "        # #plt.title(f\"SGD batch size = {self.batch_size}, epoch = {epoch}, lr={self.lr}, RMSE={np.sqrt(sgd.batch_loss(sgd.X,sgd.y))}\", fontsize=18)\n",
        "        # plt.legend(fontsize=14)\n",
        "        # plt.show()"
      ],
      "metadata": {
        "id": "B1C7uJBg5Ced"
      },
      "execution_count": 24,
      "outputs": []
    },
    {
      "cell_type": "markdown",
      "source": [
        "#2. (3pt) Run this class with the following parameters:\n",
        "\n",
        "max_epochs = 100 and 1000\n",
        "\n",
        "batch_size = 0, 1, 10, 50\n",
        "\n",
        "lr = 1e-6, 1e-7, 1e-8\n",
        "\n",
        "Report the results (RMSE) and try to explain how batch size coordinates with the learning rate.\n",
        "\n",
        "You can scale the data and see, how different the performance will be."
      ],
      "metadata": {
        "id": "oUNyzWLigM2f"
      }
    },
    {
      "cell_type": "code",
      "source": [
        "np.random.seed(42)"
      ],
      "metadata": {
        "id": "xk1ofIqJocqW"
      },
      "execution_count": 25,
      "outputs": []
    },
    {
      "cell_type": "code",
      "source": [
        "sgd = SGD(max_epoch=100, lr=1e-7, batch_size=1)"
      ],
      "metadata": {
        "id": "FlJJihWnAo8f"
      },
      "execution_count": 36,
      "outputs": []
    },
    {
      "cell_type": "code",
      "source": [
        "sgd.fit(Data[[13]],Data[25])"
      ],
      "metadata": {
        "id": "1MpMSiA6A2na",
        "colab": {
          "base_uri": "https://localhost:8080/",
          "height": 701
        },
        "outputId": "60410732-f967-4195-e082-db8b04834cd7"
      },
      "execution_count": 37,
      "outputs": [
        {
          "output_type": "display_data",
          "data": {
            "text/plain": [
              "<Figure size 1000x800 with 1 Axes>"
            ],
            "image/png": "[encoded data removed]"
          },
          "metadata": {}
        }
      ]
    },
    {
      "cell_type": "code",
      "source": [
        "np.random.seed()"
      ],
      "metadata": {
        "id": "wGbN6W4YFQJP"
      },
      "execution_count": 18,
      "outputs": []
    },
    {
      "cell_type": "code",
      "source": [
        "sgd.w"
      ],
      "metadata": {
        "id": "lYvE9F0zwXu2",
        "colab": {
          "base_uri": "https://localhost:8080/"
        },
        "outputId": "1e51125e-90b6-4fe3-b771-e5257756e6d6"
      },
      "execution_count": 19,
      "outputs": [
        {
          "output_type": "execute_result",
          "data": {
            "text/plain": [
              "array([-1.27249893,  8.58734877])"
            ]
          },
          "metadata": {},
          "execution_count": 19
        }
      ]
    },
    {
      "cell_type": "markdown",
      "source": [
        "#3. (10pt) In this part you will use the built-in functions for Linear Regression. They are using SGD under the hood.\n",
        "\n",
        "(1pt) Plot the histograms for numerical data and bar-plots for categorical features, add $x$ axis name (file Description.txt). You can get the names of the columns as follows:\n",
        "```\n",
        "# List of numerical columns (assuming they have numeric data types)\n",
        "numerical_columns = Data.select_dtypes(exclude=['object']).columns.tolist()\n",
        "\n",
        "# List of nominal (categorical) columns (assuming they have object data types)\n",
        "nominal_columns = Data.select_dtypes(include=['object']).columns.tolist()\n",
        "\n",
        "```\n",
        "And then methods\n",
        "```\n",
        "Data[column].hist()\n",
        "Data[column].value_counts().plot(kind='bar')\n",
        "```\n",
        "\n",
        "(1pt) Transform categorical data into numerical ([see SGD notebook](https://github.com/anton-selitskiy/RIT_ML/blob/main/2024_fall/Lectures/ML9.ipynb)).\n",
        "\n",
        "(3pt) Choose the features for prediction ([see Model Selection notebook](https://github.com/anton-selitskiy/RIT_ML/blob/main/2024_fall/Lectures/ML10.ipynb))\n",
        "\n",
        "(3pt) Choose the model by the grid-search (using validation set or cross-validation)\n",
        "\n",
        "(2pt) Train the best model and report it's performance on the Test set. Justify your choice of the metric for evaluation."
      ],
      "metadata": {
        "id": "sWgZF7pghsC6"
      }
    },
    {
      "cell_type": "code",
      "source": [
        "# To have the names of the columns, we upload file Description.txt\n",
        "descripsion = pd.read_csv('https://raw.githubusercontent.com/anton-selitskiy/RIT_ML/main/2024_spring/Homeworks/Description.txt', delimiter=':', header=None)\n",
        "Data.columns = descripsion[0].str.strip() #delete extra spaces in the column names\n",
        "Data.head()"
      ],
      "metadata": {
        "id": "NQsFUcZSfYZO"
      },
      "execution_count": null,
      "outputs": []
    },
    {
      "cell_type": "code",
      "source": [],
      "metadata": {
        "id": "Oor__VvceAXE"
      },
      "execution_count": null,
      "outputs": []
    }
  ]
}