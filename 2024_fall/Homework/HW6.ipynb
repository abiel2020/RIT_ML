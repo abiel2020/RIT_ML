{
  "cells": [
    {
      "cell_type": "markdown",
      "metadata": {
        "id": "LNzpOlkNVOnv"
      },
      "source": [
        "# Homework 6\n",
        "\n",
        "Part 1: Softmax\n",
        "\n",
        "Part 2: Naive Bayes: Bayesian spam filter (discrete date)\n",
        "\n",
        "Part 3: Probability Questions"
      ]
    },
    {
      "cell_type": "code",
      "execution_count": null,
      "metadata": {
        "id": "vb53IqZeOX5K"
      },
      "outputs": [],
      "source": [
        "import numpy as np\n",
        "import pandas as pd\n",
        "import matplotlib.pyplot as plt\n",
        "%matplotlib inline"
      ]
    },
    {
      "cell_type": "markdown",
      "metadata": {
        "id": "YQOqlxGSZNFs"
      },
      "source": [
        "# Part 1 (3pt)\n",
        "When computing the output probabilities from margins $x_1,\\ x_2,\\ \\ldots,\\ x_C$, often (by analogy with binary case) called *logits*, the exponential terms may be very large or very small. This can cause numerical or overflow errors (try `np.exp(1000)`).\n",
        "\n",
        "Check that the following formula is correct for an arbitrary $A$:\n",
        "\n",
        "$$\n",
        "Softmax_i = \\frac{e^{x_i}}{\\sum\\limits_{c=1}^{C} e^{x_c}} = \\frac{e^{x_i-A}}{\\sum\\limits_{c=1}^{C} e^{x_c-A}}.\n",
        "$$\n",
        "\n",
        "A suitable choice for this fixed value $A$ is\n",
        "$$\n",
        "A = \\underset{c}{\\max}\\ x_c.\n",
        "$$\n",
        "\n",
        "## Q1 (3pt) Write a function `compute_probabilities` that computes Softmax."
      ]
    },
    {
      "cell_type": "code",
      "execution_count": null,
      "metadata": {
        "id": "S6s7L43uZNW7"
      },
      "outputs": [],
      "source": [
        "def compute_probabilities(X):\n",
        "    \"\"\"\n",
        "    Computes Softmax, for each vector X[i, :].\n",
        "\n",
        "    Args:\n",
        "        X - (n, C) NumPy array (n datapoints each with C features in range (-oo, +oo))\n",
        "    Returns:\n",
        "        H - (n, C) NumPy array, where each row H[i,:] = Softmax(X[i,:]) (n features in range [0, 1])\n",
        "    \"\"\"\n",
        "    #YOUR CODE HERE\n",
        "    pass"
      ]
    },
    {
      "cell_type": "code",
      "execution_count": null,
      "metadata": {
        "id": "2LoiFUi1fOa5"
      },
      "outputs": [],
      "source": [
        "#Test yourself\n",
        "from scipy.special import softmax\n",
        "M = np.random.randint(-1000, 1000, size=(30,20))\n",
        "assert np.allclose(compute_probabilities(M), softmax(M, axis=1))"
      ]
    },
    {
      "cell_type": "code",
      "execution_count": null,
      "metadata": {
        "id": "6tC5OnPMmY_A"
      },
      "outputs": [],
      "source": [
        "from sklearn.model_selection import train_test_split\n",
        "X_train, X_test, y_train, y_test = train_test_split(X, y, test_size=0.2, random_state=42)"
      ]
    },
    {
      "cell_type": "markdown",
      "metadata": {
        "id": "BrFoZRQ1tnfj"
      },
      "source": [
        "From the conditional probability formula, we know that\n",
        "$$\n",
        "p(y=c|x) = \\frac{p(x, y=c)}{p(x)} = \\frac{p(x|y=c)p(y=c)}{p(x)}, \\quad c=1,2,3,4.\n",
        "$$\n",
        "\n",
        "Because the denominator doesn't depend on $c,$\n",
        "$$\n",
        "a(x) = \\underset{c}{argmax}\\ p(y=c|x) = \\underset{c}{argmax}\\ p(x|y=c)p(y=c).\n",
        "$$"
      ]
    },
    {
      "cell_type": "markdown",
      "metadata": {
        "id": "pB4PUCyHOX5L"
      },
      "source": [
        "# Part 2 (11pt)\n",
        "In this Question, you will apply Naive Bayes classifier to build a spam filter. Use dataset from https://www.kaggle.com/datasets/venky73/spam-mails-dataset?select=spam_ham_dataset.csv  It's *Enron email dataset,* a large collection of emails from the Enron Corporation. (If you don't want to loggin to Kaggle, write me an e-mail and I'll send the dataset.)"
      ]
    },
    {
      "cell_type": "code",
      "execution_count": null,
      "metadata": {
        "colab": {
          "base_uri": "https://localhost:8080/"
        },
        "id": "ZH6te3Eq0d8V",
        "outputId": "4f0c69a0-5cfd-4f78-da54-51ed09b0f8b2"
      },
      "outputs": [
        {
          "name": "stdout",
          "output_type": "stream",
          "text": [
            "Archive:  spam_ham_dataset.csv.zip\n",
            "  inflating: spam_ham_dataset.csv    \n"
          ]
        }
      ],
      "source": [
        "#!unzip spam_ham_dataset.csv.zip"
      ]
    },
    {
      "cell_type": "code",
      "execution_count": null,
      "metadata": {
        "colab": {
          "base_uri": "https://localhost:8080/",
          "height": 206
        },
        "id": "oKkC7ul6OX5P",
        "outputId": "25f94ab4-d402-4e74-c831-d94b1d559c88"
      },
      "outputs": [
        {
          "data": {
            "text/html": [
              "\n",
              "  <div id=\"df-49e84df2-4b80-477a-84d6-86fb32f06c3c\" class=\"colab-df-container\">\n",
              "    <div>\n",
              "<style scoped>\n",
              "    .dataframe tbody tr th:only-of-type {\n",
              "        vertical-align: middle;\n",
              "    }\n",
              "\n",
              "    .dataframe tbody tr th {\n",
              "        vertical-align: top;\n",
              "    }\n",
              "\n",
              "    .dataframe thead th {\n",
              "        text-align: right;\n",
              "    }\n",
              "</style>\n",
              "<table border=\"1\" class=\"dataframe\">\n",
              "  <thead>\n",
              "    <tr style=\"text-align: right;\">\n",
              "      <th></th>\n",
              "      <th>Unnamed: 0</th>\n",
              "      <th>label</th>\n",
              "      <th>text</th>\n",
              "      <th>label_num</th>\n",
              "    </tr>\n",
              "  </thead>\n",
              "  <tbody>\n",
              "    <tr>\n",
              "      <th>0</th>\n",
              "      <td>605</td>\n",
              "      <td>ham</td>\n",
              "      <td>Subject: enron methanol ; meter # : 988291\\r\\n...</td>\n",
              "      <td>0</td>\n",
              "    </tr>\n",
              "    <tr>\n",
              "      <th>1</th>\n",
              "      <td>2349</td>\n",
              "      <td>ham</td>\n",
              "      <td>Subject: hpl nom for january 9 , 2001\\r\\n( see...</td>\n",
              "      <td>0</td>\n",
              "    </tr>\n",
              "    <tr>\n",
              "      <th>2</th>\n",
              "      <td>3624</td>\n",
              "      <td>ham</td>\n",
              "      <td>Subject: neon retreat\\r\\nho ho ho , we ' re ar...</td>\n",
              "      <td>0</td>\n",
              "    </tr>\n",
              "    <tr>\n",
              "      <th>3</th>\n",
              "      <td>4685</td>\n",
              "      <td>spam</td>\n",
              "      <td>Subject: photoshop , windows , office . cheap ...</td>\n",
              "      <td>1</td>\n",
              "    </tr>\n",
              "    <tr>\n",
              "      <th>4</th>\n",
              "      <td>2030</td>\n",
              "      <td>ham</td>\n",
              "      <td>Subject: re : indian springs\\r\\nthis deal is t...</td>\n",
              "      <td>0</td>\n",
              "    </tr>\n",
              "  </tbody>\n",
              "</table>\n",
              "</div>\n",
              "    <div class=\"colab-df-buttons\">\n",
              "\n",
              "  <div class=\"colab-df-container\">\n",
              "    <button class=\"colab-df-convert\" onclick=\"convertToInteractive('df-49e84df2-4b80-477a-84d6-86fb32f06c3c')\"\n",
              "            title=\"Convert this dataframe to an interactive table.\"\n",
              "            style=\"display:none;\">\n",
              "\n",
              "  <svg xmlns=\"http://www.w3.org/2000/svg\" height=\"24px\" viewBox=\"0 -960 960 960\">\n",
              "    <path d=\"M120-120v-720h720v720H120Zm60-500h600v-160H180v160Zm220 220h160v-160H400v160Zm0 220h160v-160H400v160ZM180-400h160v-160H180v160Zm440 0h160v-160H620v160ZM180-180h160v-160H180v160Zm440 0h160v-160H620v160Z\"/>\n",
              "  </svg>\n",
              "    </button>\n",
              "\n",
              "  <style>\n",
              "    .colab-df-container {\n",
              "      display:flex;\n",
              "      gap: 12px;\n",
              "    }\n",
              "\n",
              "    .colab-df-convert {\n",
              "      background-color: #E8F0FE;\n",
              "      border: none;\n",
              "      border-radius: 50%;\n",
              "      cursor: pointer;\n",
              "      display: none;\n",
              "      fill: #1967D2;\n",
              "      height: 32px;\n",
              "      padding: 0 0 0 0;\n",
              "      width: 32px;\n",
              "    }\n",
              "\n",
              "    .colab-df-convert:hover {\n",
              "      background-color: #E2EBFA;\n",
              "      box-shadow: 0px 1px 2px rgba(60, 64, 67, 0.3), 0px 1px 3px 1px rgba(60, 64, 67, 0.15);\n",
              "      fill: #174EA6;\n",
              "    }\n",
              "\n",
              "    .colab-df-buttons div {\n",
              "      margin-bottom: 4px;\n",
              "    }\n",
              "\n",
              "    [theme=dark] .colab-df-convert {\n",
              "      background-color: #3B4455;\n",
              "      fill: #D2E3FC;\n",
              "    }\n",
              "\n",
              "    [theme=dark] .colab-df-convert:hover {\n",
              "      background-color: #434B5C;\n",
              "      box-shadow: 0px 1px 3px 1px rgba(0, 0, 0, 0.15);\n",
              "      filter: drop-shadow(0px 1px 2px rgba(0, 0, 0, 0.3));\n",
              "      fill: #FFFFFF;\n",
              "    }\n",
              "  </style>\n",
              "\n",
              "    <script>\n",
              "      const buttonEl =\n",
              "        document.querySelector('#df-49e84df2-4b80-477a-84d6-86fb32f06c3c button.colab-df-convert');\n",
              "      buttonEl.style.display =\n",
              "        google.colab.kernel.accessAllowed ? 'block' : 'none';\n",
              "\n",
              "      async function convertToInteractive(key) {\n",
              "        const element = document.querySelector('#df-49e84df2-4b80-477a-84d6-86fb32f06c3c');\n",
              "        const dataTable =\n",
              "          await google.colab.kernel.invokeFunction('convertToInteractive',\n",
              "                                                    [key], {});\n",
              "        if (!dataTable) return;\n",
              "\n",
              "        const docLinkHtml = 'Like what you see? Visit the ' +\n",
              "          '<a target=\"_blank\" href=https://colab.research.google.com/notebooks/data_table.ipynb>data table notebook</a>'\n",
              "          + ' to learn more about interactive tables.';\n",
              "        element.innerHTML = '';\n",
              "        dataTable['output_type'] = 'display_data';\n",
              "        await google.colab.output.renderOutput(dataTable, element);\n",
              "        const docLink = document.createElement('div');\n",
              "        docLink.innerHTML = docLinkHtml;\n",
              "        element.appendChild(docLink);\n",
              "      }\n",
              "    </script>\n",
              "  </div>\n",
              "\n",
              "\n",
              "<div id=\"df-41a9edb4-3132-4bcc-85e3-5b61903bad21\">\n",
              "  <button class=\"colab-df-quickchart\" onclick=\"quickchart('df-41a9edb4-3132-4bcc-85e3-5b61903bad21')\"\n",
              "            title=\"Suggest charts.\"\n",
              "            style=\"display:none;\">\n",
              "\n",
              "<svg xmlns=\"http://www.w3.org/2000/svg\" height=\"24px\"viewBox=\"0 0 24 24\"\n",
              "     width=\"24px\">\n",
              "    <g>\n",
              "        <path d=\"M19 3H5c-1.1 0-2 .9-2 2v14c0 1.1.9 2 2 2h14c1.1 0 2-.9 2-2V5c0-1.1-.9-2-2-2zM9 17H7v-7h2v7zm4 0h-2V7h2v10zm4 0h-2v-4h2v4z\"/>\n",
              "    </g>\n",
              "</svg>\n",
              "  </button>\n",
              "\n",
              "<style>\n",
              "  .colab-df-quickchart {\n",
              "      --bg-color: #E8F0FE;\n",
              "      --fill-color: #1967D2;\n",
              "      --hover-bg-color: #E2EBFA;\n",
              "      --hover-fill-color: #174EA6;\n",
              "      --disabled-fill-color: #AAA;\n",
              "      --disabled-bg-color: #DDD;\n",
              "  }\n",
              "\n",
              "  [theme=dark] .colab-df-quickchart {\n",
              "      --bg-color: #3B4455;\n",
              "      --fill-color: #D2E3FC;\n",
              "      --hover-bg-color: #434B5C;\n",
              "      --hover-fill-color: #FFFFFF;\n",
              "      --disabled-bg-color: #3B4455;\n",
              "      --disabled-fill-color: #666;\n",
              "  }\n",
              "\n",
              "  .colab-df-quickchart {\n",
              "    background-color: var(--bg-color);\n",
              "    border: none;\n",
              "    border-radius: 50%;\n",
              "    cursor: pointer;\n",
              "    display: none;\n",
              "    fill: var(--fill-color);\n",
              "    height: 32px;\n",
              "    padding: 0;\n",
              "    width: 32px;\n",
              "  }\n",
              "\n",
              "  .colab-df-quickchart:hover {\n",
              "    background-color: var(--hover-bg-color);\n",
              "    box-shadow: 0 1px 2px rgba(60, 64, 67, 0.3), 0 1px 3px 1px rgba(60, 64, 67, 0.15);\n",
              "    fill: var(--button-hover-fill-color);\n",
              "  }\n",
              "\n",
              "  .colab-df-quickchart-complete:disabled,\n",
              "  .colab-df-quickchart-complete:disabled:hover {\n",
              "    background-color: var(--disabled-bg-color);\n",
              "    fill: var(--disabled-fill-color);\n",
              "    box-shadow: none;\n",
              "  }\n",
              "\n",
              "  .colab-df-spinner {\n",
              "    border: 2px solid var(--fill-color);\n",
              "    border-color: transparent;\n",
              "    border-bottom-color: var(--fill-color);\n",
              "    animation:\n",
              "      spin 1s steps(1) infinite;\n",
              "  }\n",
              "\n",
              "  @keyframes spin {\n",
              "    0% {\n",
              "      border-color: transparent;\n",
              "      border-bottom-color: var(--fill-color);\n",
              "      border-left-color: var(--fill-color);\n",
              "    }\n",
              "    20% {\n",
              "      border-color: transparent;\n",
              "      border-left-color: var(--fill-color);\n",
              "      border-top-color: var(--fill-color);\n",
              "    }\n",
              "    30% {\n",
              "      border-color: transparent;\n",
              "      border-left-color: var(--fill-color);\n",
              "      border-top-color: var(--fill-color);\n",
              "      border-right-color: var(--fill-color);\n",
              "    }\n",
              "    40% {\n",
              "      border-color: transparent;\n",
              "      border-right-color: var(--fill-color);\n",
              "      border-top-color: var(--fill-color);\n",
              "    }\n",
              "    60% {\n",
              "      border-color: transparent;\n",
              "      border-right-color: var(--fill-color);\n",
              "    }\n",
              "    80% {\n",
              "      border-color: transparent;\n",
              "      border-right-color: var(--fill-color);\n",
              "      border-bottom-color: var(--fill-color);\n",
              "    }\n",
              "    90% {\n",
              "      border-color: transparent;\n",
              "      border-bottom-color: var(--fill-color);\n",
              "    }\n",
              "  }\n",
              "</style>\n",
              "\n",
              "  <script>\n",
              "    async function quickchart(key) {\n",
              "      const quickchartButtonEl =\n",
              "        document.querySelector('#' + key + ' button');\n",
              "      quickchartButtonEl.disabled = true;  // To prevent multiple clicks.\n",
              "      quickchartButtonEl.classList.add('colab-df-spinner');\n",
              "      try {\n",
              "        const charts = await google.colab.kernel.invokeFunction(\n",
              "            'suggestCharts', [key], {});\n",
              "      } catch (error) {\n",
              "        console.error('Error during call to suggestCharts:', error);\n",
              "      }\n",
              "      quickchartButtonEl.classList.remove('colab-df-spinner');\n",
              "      quickchartButtonEl.classList.add('colab-df-quickchart-complete');\n",
              "    }\n",
              "    (() => {\n",
              "      let quickchartButtonEl =\n",
              "        document.querySelector('#df-41a9edb4-3132-4bcc-85e3-5b61903bad21 button');\n",
              "      quickchartButtonEl.style.display =\n",
              "        google.colab.kernel.accessAllowed ? 'block' : 'none';\n",
              "    })();\n",
              "  </script>\n",
              "</div>\n",
              "    </div>\n",
              "  </div>\n"
            ],
            "text/plain": [
              "   Unnamed: 0 label                                               text  \\\n",
              "0         605   ham  Subject: enron methanol ; meter # : 988291\\r\\n...   \n",
              "1        2349   ham  Subject: hpl nom for january 9 , 2001\\r\\n( see...   \n",
              "2        3624   ham  Subject: neon retreat\\r\\nho ho ho , we ' re ar...   \n",
              "3        4685  spam  Subject: photoshop , windows , office . cheap ...   \n",
              "4        2030   ham  Subject: re : indian springs\\r\\nthis deal is t...   \n",
              "\n",
              "   label_num  \n",
              "0          0  \n",
              "1          0  \n",
              "2          0  \n",
              "3          1  \n",
              "4          0  "
            ]
          },
          "execution_count": 30,
          "metadata": {},
          "output_type": "execute_result"
        }
      ],
      "source": [
        "import pandas as pd\n",
        "data = pd.read_csv('spam_ham_dataset.csv')\n",
        "\n",
        "texts = data['text'].values\n",
        "target = data['label_num'].values\n",
        "data.head()"
      ]
    },
    {
      "cell_type": "code",
      "execution_count": null,
      "metadata": {
        "id": "6i6EbqM3OX5R"
      },
      "outputs": [],
      "source": [
        "from sklearn.model_selection import train_test_split\n",
        "texts_train, texts_test, y_train, y_test = train_test_split(texts, target, test_size=0.5, random_state=42)"
      ]
    },
    {
      "cell_type": "markdown",
      "metadata": {
        "id": "r3InaLNbOX5S"
      },
      "source": [
        "### Preprocessing and tokenization"
      ]
    },
    {
      "cell_type": "markdown",
      "metadata": {
        "id": "6DFHbHF1OX5W"
      },
      "source": [
        "### Solving it: bag of words\n",
        "\n",
        "![img](http://www.novuslight.com/uploads/n/BagofWords.jpg)\n",
        "\n",
        "Apply `CountVectorizer()` to the training data."
      ]
    },
    {
      "cell_type": "code",
      "execution_count": null,
      "metadata": {
        "id": "Qwxf2Oiw6JMY"
      },
      "outputs": [],
      "source": [
        "from sklearn.feature_extraction.text import CountVectorizer"
      ]
    },
    {
      "cell_type": "code",
      "execution_count": null,
      "metadata": {
        "id": "fEcwel836omQ"
      },
      "outputs": [],
      "source": [
        "vec = CountVectorizer()"
      ]
    },
    {
      "cell_type": "code",
      "execution_count": null,
      "metadata": {
        "id": "9qNUazHSOX5a"
      },
      "outputs": [],
      "source": [
        "X_train_bow = vec.fit_transform(texts_train).toarray()\n",
        "X_test_bow = vec.transform(texts_test).toarray()"
      ]
    },
    {
      "cell_type": "markdown",
      "metadata": {
        "id": "FuQ-mKCGduYQ"
      },
      "source": [
        "Now you have the counts of the words from the bag of words in each e-mail.\n",
        "\n",
        "__Naive bayes:__ perhaps the simplest model that can solve your problem is the so called Naive Bayes Classifier.\n",
        "Its a simple probabilistic model that assumes the independence of input features (words' frequencies) and computes the counting probabilities.\n",
        "\n",
        "For example, if we have a dictionary of $n$ words and a phrase *I’m writing to you because of an investment portfolio of you*, the corresponding vector $x=(x_1,\\ldots, x_n)$ will have counts $1$ for *I*, *m*, *writing*, *to*, *because*, *of*, *an*, *investment*, *portfolio*, $2$ for *you*, and $0$ for the rest words.\n",
        "\n",
        "Let's say you have calculated probabilities (frequencies) of each word in the set of normal e-mails. Then\n",
        "\n",
        "$$\n",
        "p(x|y=1) = p('I'|y=1)p('m'|y=1)p('writing'|y=1)p('to'|y=1)p^2('you'|y=1)\\ldots\n",
        "$$\n",
        "\n",
        "Then you can calculate $p(x|y=0).$ It will be convenient to work with log-probabilities:\n",
        "\n",
        "$$\n",
        "\\log p(x|y=1) = \\log p('I'|y=1)+\\log p('m'|y=1)+\\log p('writing'|y=1)+\\log p('to'|y=1)+2\\log p('you'|y=1)\\ldots\n",
        "$$  \n",
        "\n",
        "In this case, the factors are counts and it can be represented by dot product:\n",
        "\n",
        "$$\n",
        "\\log p(x|y=1) = x.dot(np.log(p(words|y=1)))\n",
        "$$\n",
        "\n",
        "You can do this for the batch of vectors $X$ (as rows):\n",
        "\n",
        "```X.dot(np.log(p_neg))```\n",
        "\n",
        "We call negative, if it's not a spam."
      ]
    },
    {
      "cell_type": "markdown",
      "metadata": {
        "id": "8lbUu4b8OX5b"
      },
      "source": [
        "If you don't remember the math behind Naive Bayes, read https://scikit-learn.org/stable/modules/naive_bayes.html to help refresh your memory.\n",
        "\n",
        "For every word we will calculate its frequency in spam and in ham, it will be $p(word|y=1)$ and $p(word|y=0)$. To avoid devisions by zero instead of the formula\n",
        "$$\n",
        "p(word|y) =\\frac{\\#word \\text{ in class y}}{\\text{total # words in class } y}\n",
        "$$\n",
        "use\n",
        "$$\n",
        "p(word|y) =\\frac{\\delta+\\#word \\text{ in class y}}{\\delta\\cdot\\text{vocabulary length} + \\text{total # words in class } y}\n",
        "$$\n",
        "\n",
        "We will use $\\delta =1$."
      ]
    },
    {
      "cell_type": "markdown",
      "metadata": {
        "id": "L_ixonVVtL7V"
      },
      "source": [
        "## Q2 (8pt) Write the class for Naive Bayes"
      ]
    },
    {
      "cell_type": "code",
      "execution_count": null,
      "metadata": {
        "id": "oSs5aD6dOX5c"
      },
      "outputs": [],
      "source": [
        "delta = 1.0\n",
        "class BinaryNaiveBayes:\n",
        "#     delta = 1.0  # add this to all word counts to smoothe probabilities\n",
        "\n",
        "    def fit(self, X, y):\n",
        "        \"\"\"\n",
        "        Fit a NaiveBayes classifier for two classes\n",
        "        :param X: [batch_size, vocab_size] of bag-of-words features\n",
        "        :param y: [batch_size] of binary targets {0, 1}\n",
        "        \"\"\"\n",
        "        # first, compute marginal probabilities of every class, p(y=c) for c = 0,1\n",
        "        self.p_y = #(<YOUR CODE: probability of y=0 and of y=1 in this order>)\n",
        "\n",
        "\n",
        "        # count occurences of each word in texts with label 0 (non-spam) and label 1 (spam) separately\n",
        "        word_counts_negative = #<YOUR CODE HERE>\n",
        "        word_counts_positive = #<YOUR CODE HERE>\n",
        "        # ^-- both must be vectors of size vocab_size.\n",
        "\n",
        "        # finally, lets use those counts to estimate p(x | y = c) for c = 0, 1\n",
        "\n",
        "        #<YOUR CODE HERE>\n",
        "\n",
        "        self.p_x_given_negative = #<...>\n",
        "        self.p_x_given_positive = #<...>\n",
        "        # ^-- both must be of size vocab_size; and don't forget to use self.delta!!!\n",
        "\n",
        "        return self\n",
        "\n",
        "    def predict_scores(self, X):\n",
        "        \"\"\"\n",
        "        :param X: [batch_size, vocab_size] of bag-of-words features\n",
        "        :returns: a matrix of scores [batch_size, k] of scores for k-th class\n",
        "        \"\"\"\n",
        "        # compute scores for positive and negative classes separately.\n",
        "        # We don't use denomenator p(y|X) = p(X|y)p(y)/p(X)\n",
        "        # these scores should be proportional to log-probabilities of the respective target {0, 1}\n",
        "        # X.dot(np.log(self.p_x_given_negative*self.p_y[0])) = X.dot(np.log(self.p_x_given_negative)) + np.log(self.p_y[0])\n",
        "\n",
        "        score_negative = #<...>\n",
        "        score_positive = #<...>\n",
        "\n",
        "        return np.stack([score_negative, score_positive], axis=-1)\n",
        "\n",
        "    def predict(self, X):\n",
        "        return self.predict_scores(X).argmax(axis=-1)"
      ]
    },
    {
      "cell_type": "code",
      "execution_count": null,
      "metadata": {
        "id": "-dz355hHOX5d"
      },
      "outputs": [],
      "source": [
        "naive_model = BinaryNaiveBayes().fit(X_train_bow, y_train)"
      ]
    },
    {
      "cell_type": "code",
      "execution_count": null,
      "metadata": {
        "id": "LQYFHmNwOX5d"
      },
      "outputs": [],
      "source": [
        "assert naive_model.p_y.shape == (2,) and naive_model.p_y.sum() == 1 and naive_model.p_y[0] > naive_model.p_y[1]\n",
        "assert naive_model.p_x_given_positive.shape == naive_model.p_x_given_negative.shape == X_train_bow.shape[1:]\n",
        "assert np.allclose(naive_model.p_x_given_positive.sum(), 1.0)\n",
        "assert np.allclose(naive_model.p_x_given_negative.sum(), 1.0)\n",
        "assert naive_model.p_x_given_negative.min() > 0, \"did you forget to add delta?\""
      ]
    },
    {
      "cell_type": "code",
      "execution_count": null,
      "metadata": {
        "colab": {
          "base_uri": "https://localhost:8080/",
          "height": 465
        },
        "id": "gRkHz48qOX5e",
        "outputId": "af4b5043-3af1-40be-d57c-e7a75919f62c"
      },
      "outputs": [
        {
          "name": "stdout",
          "output_type": "stream",
          "text": [
            "Model accuracy: 0.971\n",
            "Well done!\n"
          ]
        },
        {
          "data": {
            "image/png": "[encoded data removed]",
            "text/plain": [
              "<Figure size 640x480 with 1 Axes>"
            ]
          },
          "metadata": {},
          "output_type": "display_data"
        }
      ],
      "source": [
        "from sklearn.metrics import roc_auc_score, roc_curve\n",
        "\n",
        "for name, X, y, model in [\n",
        "    ('train', X_train_bow, y_train, naive_model),\n",
        "    ('test ', X_test_bow, y_test, naive_model)\n",
        "]:\n",
        "    proba = model.predict_scores(X)[:, 1] - model.predict_scores(X)[:, 0]\n",
        "    auc = roc_auc_score(y, proba)\n",
        "    plt.plot(*roc_curve(y, proba)[:2], label='%s AUC=%.4f' % (name, auc))\n",
        "\n",
        "plt.plot([0, 1], [0, 1], '--', color='black',)\n",
        "plt.legend(fontsize='large')\n",
        "plt.grid()\n",
        "\n",
        "test_accuracy = np.mean(naive_model.predict(X_test_bow) == y_test)\n",
        "print(f\"Model accuracy: {test_accuracy:.3f}\")\n",
        "assert test_accuracy > 0.75, \"Accuracy too low. There's likely a mistake in the code.\"\n",
        "print(\"Well done!\")"
      ]
    },
    {
      "cell_type": "markdown",
      "metadata": {
        "id": "e2a_6Rd2OX5e"
      },
      "source": [
        "Okay, it definitely learned *something*. Now let's figure out what exactly it learned. The simplest way to do that is by highlighting which words have a greatest ratio of positive to negative probability or vice versa. (The log of that fraction is called *logit.*) Here are top-25 words that have the __highest__ ratio of ${p(x_i | y=0)} \\over {p(x_i | y=1)}$."
      ]
    },
    {
      "cell_type": "code",
      "execution_count": null,
      "metadata": {
        "id": "mkD2jbV-OX5f"
      },
      "outputs": [],
      "source": [
        "bow_vocabulary = vec.get_feature_names_out()"
      ]
    },
    {
      "cell_type": "code",
      "execution_count": null,
      "metadata": {
        "id": "H0vbJPnBOX5g"
      },
      "outputs": [],
      "source": [
        "probability_ratio = 1/(naive_model.p_x_given_positive/naive_model.p_x_given_negative)\n",
        "top_negative_words = bow_vocabulary[np.argsort(probability_ratio)[:25]]\n",
        "assert len(top_negative_words) == 25 and [isinstance(w, str) for w in top_negative_words]\n",
        "\n",
        "for i, word in enumerate(top_negative_words):\n",
        "    print(f\"#{i}\\t{word.rjust(10, ' ')}\\t(ratio={probability_ratio[list(bow_vocabulary).index(word)]})\")"
      ]
    },
    {
      "cell_type": "code",
      "execution_count": null,
      "metadata": {
        "id": "qcdqpbDe4Z-G"
      },
      "outputs": [],
      "source": [
        "from sklearn.metrics import ConfusionMatrixDisplay"
      ]
    },
    {
      "cell_type": "code",
      "execution_count": null,
      "metadata": {
        "id": "inqeD8UG4Z-I"
      },
      "outputs": [],
      "source": [
        "ConfusionMatrixDisplay.from_predictions(y_test, naive_model.predict(X_test_bow))"
      ]
    },
    {
      "cell_type": "markdown",
      "metadata": {
        "id": "Z9QcXQjB3_5C"
      },
      "source": [
        "## Q3 (1pt)\n",
        "Now, let's do it with the built-in function and compare results"
      ]
    },
    {
      "cell_type": "code",
      "execution_count": null,
      "metadata": {
        "id": "NLl9t66lP6L8"
      },
      "outputs": [],
      "source": [
        "from sklearn.naive_bayes import MultinomialNB"
      ]
    },
    {
      "cell_type": "code",
      "execution_count": null,
      "metadata": {
        "id": "MeeD-XjpQIz-"
      },
      "outputs": [],
      "source": [
        "model = #<YOUR CODE HERE - train a built-in Naive Bayes>"
      ]
    },
    {
      "cell_type": "code",
      "execution_count": null,
      "metadata": {
        "id": "N29FnF9SQR92"
      },
      "outputs": [],
      "source": [
        "np.mean(y_test==model.predict(X_test_bow))"
      ]
    },
    {
      "cell_type": "markdown",
      "metadata": {
        "id": "b1uQ9TmVOX5g"
      },
      "source": [
        "## Q4 (2pt)\n",
        "Now lets try something less prehistoric: __Logistic Regression__. It turns out, if you're using silicon instead of an abacus, you can find model weights by optimizing the log-probability of the answer. Though, of course, you don't even need to write it by hand anymore. Let's sklearn it!\n",
        "\n",
        "You can play with parameter $C=$ in LogisticRegression, it plays similar role as in SVM allowing slightly negative margins."
      ]
    },
    {
      "cell_type": "code",
      "execution_count": null,
      "metadata": {
        "id": "hlo_pfNGOX5h"
      },
      "outputs": [],
      "source": [
        "from sklearn.linear_model import LogisticRegression\n",
        "bow_model = #<YOUR CODE HERE - train a logistic regression>"
      ]
    },
    {
      "cell_type": "code",
      "execution_count": null,
      "metadata": {
        "colab": {
          "base_uri": "https://localhost:8080/",
          "height": 465
        },
        "id": "b6qzyNS-OX5h",
        "outputId": "5f399ae5-af81-45f2-b8f5-d61f6eb4c514"
      },
      "outputs": [
        {
          "name": "stdout",
          "output_type": "stream",
          "text": [
            "Model accuracy: 0.971\n",
            "Well done!\n"
          ]
        },
        {
          "data": {
            "image/png": "[encoded data removed]",
            "text/plain": [
              "<Figure size 640x480 with 1 Axes>"
            ]
          },
          "metadata": {},
          "output_type": "display_data"
        }
      ],
      "source": [
        "from sklearn.metrics import roc_auc_score, roc_curve\n",
        "\n",
        "for name, X, y, model in [\n",
        "    ('train', X_train_bow, y_train, bow_model),\n",
        "    ('test ', X_test_bow, y_test, bow_model)\n",
        "]:\n",
        "    proba = model.predict_proba(X)[:, 1]\n",
        "    auc = roc_auc_score(y, proba)\n",
        "    plt.plot(*roc_curve(y, proba)[:2], label='%s AUC=%.4f' % (name, auc))\n",
        "\n",
        "plt.plot([0, 1], [0, 1], '--', color='black',)\n",
        "plt.legend(fontsize='large')\n",
        "plt.grid()\n",
        "\n",
        "test_accuracy = np.mean(bow_model.predict(X_test_bow) == y_test)\n",
        "print(f\"Model accuracy: {test_accuracy:.3f}\")\n",
        "assert test_accuracy > 0.77, \"Hint: tune the parameter C to improve performance\"\n",
        "print(\"Well done!\")"
      ]
    },
    {
      "cell_type": "code",
      "execution_count": null,
      "metadata": {
        "id": "2UXDOAGPswD0"
      },
      "outputs": [],
      "source": [
        "ConfusionMatrixDisplay.from_predictions(y_test, bow_model.predict(X_test_bow))"
      ]
    },
    {
      "cell_type": "markdown",
      "metadata": {
        "id": "7cEgJnO6QPKc"
      },
      "source": [
        "Finally, you can play with threshold to reduce the False Positive predictions, as you did in HW5. But let's better think about\n",
        "\n",
        "##Q4* (0pt) How to update the Naive Bayes model after getting a new spam classification from a user?"
      ]
    },
    {
      "cell_type": "markdown",
      "metadata": {
        "id": "wvi7VWoUy1ij"
      },
      "source": [
        "1. We can retrain model (recalculate the frequencies)\n",
        "\n",
        "2. We can use smoothing\n",
        "$$\n",
        "p(w|spam) = \\frac{\\#w\\ in\\ spam + 1}{\\#words\\ in\\ spam + \\delta Vocab\\_size}\n",
        "$$\n",
        "(even for words not seen in the new spam e-mails)."
      ]
    },
    {
      "cell_type": "code",
      "execution_count": null,
      "metadata": {
        "id": "SHhAYBUSs-dU"
      },
      "outputs": [],
      "source": []
    },
    {
      "cell_type": "code",
      "execution_count": null,
      "metadata": {
        "id": "5hs6BFLpZwpb"
      },
      "outputs": [],
      "source": []
    },
    {
      "cell_type": "markdown",
      "metadata": {
        "id": "d0lFSfanZ55-"
      },
      "source": [
        "# Part 3 (6pt)\n",
        "## Q5 (5pt)\n",
        "\n",
        "Discuss the effectiveness of each of the following ML models based on their stated accuracy. Which one is the best overall?\n",
        "\n",
        "**a.** In a roulette game, a ball is dropped onto a spinning wheel and eventually lands in one of 38 slots. Using a camera and visual cues (the position of the wheel when the ball was dropped and its rotation speed, as well as the position and speed of the ball), an ML model can predict the slot that the ball will land in with an accuracy of 4%.\n",
        "\n",
        "**b.** A robotic chicken crosses a busy road a thousand times per day. An ML model evaluates traffic patterns and predicts when this chicken can safely cross the street with an accuracy of 99.9%.\n",
        "\n",
        "**c.** A deadly but curable disease affects 0.01% of the population. An ML model uses the results of a simple lab test as features and predicts this affliction with an accuracy of 99.99%.\n"
      ]
    },
    {
      "cell_type": "code",
      "execution_count": null,
      "metadata": {
        "id": "4e9aTTAaZ65g"
      },
      "outputs": [],
      "source": []
    },
    {
      "cell_type": "markdown",
      "metadata": {
        "id": "3vWFVvjk0wR1"
      },
      "source": [
        "## Q6 (1pt)\n",
        "The KNN model appears simpler than logistic regression, or linear regression for classification, or SVM. Why is the separating surface in KNN more complex than in the case of linear models?"
      ]
    },
    {
      "cell_type": "code",
      "execution_count": null,
      "metadata": {
        "id": "ej8mRjd60wz0"
      },
      "outputs": [],
      "source": []
    }
  ],
  "metadata": {
    "colab": {
      "provenance": []
    },
    "kernelspec": {
      "display_name": "Python 3 (ipykernel)",
      "language": "python",
      "name": "python3"
    },
    "language_info": {
      "codemirror_mode": {
        "name": "ipython",
        "version": 3
      },
      "file_extension": ".py",
      "mimetype": "text/x-python",
      "name": "python",
      "nbconvert_exporter": "python",
      "pygments_lexer": "ipython3",
      "version": "3.10.10"
    }
  },
  "nbformat": 4,
  "nbformat_minor": 0
}
